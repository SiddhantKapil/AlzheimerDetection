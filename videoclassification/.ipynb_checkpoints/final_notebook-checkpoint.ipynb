{
 "cells": [
  {
   "cell_type": "markdown",
   "metadata": {},
   "source": [
    "# Video Classification\n",
    "\n",
    "This script consists all the steps for video classification.\n",
    "\n",
    "1. extracting the images from the nii files.\n",
    "2. converting the images of the nii file into the video.\n",
    "3. converting the video into images again.\n",
    "4. running extract_features.py to get the features from the vgg.\n",
    "5. running train.py to train the deep neural model.\n",
    "\n"
   ]
  },
  {
   "cell_type": "code",
   "execution_count": 17,
   "metadata": {
    "collapsed": true
   },
   "outputs": [],
   "source": [
    "import os\n",
    "import numpy as np\n",
    "import nibabel as nib # to read nii files\n",
    "import shutil # for file operations\n",
    "import glob  # use to make file list from diectory\n",
    "import matplotlib.pyplot as plt\n",
    "from PIL import Image, ImageFilter\n",
    "import cv2 # opencv library\n",
    "import matplotlib.image as mpimg\n",
    "import random\n",
    "from sklearn.model_selection import train_test_split \n",
    "from sklearn.metrics import accuracy_score,confusion_matrix,precision_score,recall_score\n",
    "from skimage import filters\n",
    "from skimage import measure\n",
    "from skimage.color import rgb2gray\n",
    "from skimage.morphology import closing, square\n",
    "import traceback\n",
    "import sys"
   ]
  },
  {
   "cell_type": "code",
   "execution_count": 18,
   "metadata": {
    "collapsed": true
   },
   "outputs": [],
   "source": [
    "# Declaring the home variables that will be used throughout the script.\n",
    "\n",
    "classes = ['Alzheimer',\"MCI\", 'Normal']\n",
    "home_files_dir = '/home/ubuntu/Select_original_fmri/'"
   ]
  },
  {
   "cell_type": "markdown",
   "metadata": {},
   "source": [
    "## Converting the nii files into images"
   ]
  },
  {
   "cell_type": "code",
   "execution_count": null,
   "metadata": {
    "collapsed": true,
    "scrolled": true
   },
   "outputs": [],
   "source": [
    "data = []\n",
    "labels = []\n",
    "\n",
    "#removing existing \"images\" (old data) folder from the directory '/home/ubuntu/Select_original_fmri/images'\n",
    "try:\n",
    "    shutil.rmtree(home_files_dir + 'images/')\n",
    "except:\n",
    "    print(\"No images folder in directory\")\n",
    "    pass\n",
    "\n",
    "# making \"images\" (for new data) folder in the '/home/ubuntu/Select_original_fmri/images' directory\n",
    "try:\n",
    "    os.mkdir(home_files_dir + 'images/')\n",
    "except:\n",
    "    pass\n",
    "\n",
    "# iterating /home/ubuntu/Select_original_fmri/niifiles/class_ (Alzheimer, MCI , Normal)\n",
    "for class_ in classes:\n",
    "    print ('working on ' + class_ + '...')\n",
    "    \n",
    "    for root, dir ,files in os.walk(os.path.join(home_files_dir+\"niifiles/\" , class_)): \n",
    "        \n",
    "        # making class folder inside the '/home/ubuntu/Select_original_fmri/images' directory\n",
    "        try:\n",
    "            os.mkdir(home_files_dir + 'images/' + class_ + '/')\n",
    "        except:\n",
    "            pass\n",
    "        \n",
    "        # iterating through each nii file in each class in the '/home/ubuntu/Select_original_fmri/niifiles' directory\n",
    "        for file_ in files:\n",
    "            print 'working on ' + file_ + '...'\n",
    "            \n",
    "            store_path = home_files_dir + 'images/' + class_ + '/' + file_ + '/'\n",
    "            \n",
    "            try:\n",
    "                os.mkdir(store_path)\n",
    "            except:\n",
    "                continue\n",
    "            try:\n",
    "                count = 0\n",
    "                \n",
    "                # extracting data from nii files\n",
    "                x = nib.load(os.path.join(home_files_dir + 'niifiles/' , class_) + '/' + file_).get_data()\n",
    "                \n",
    "                # Including only 3 dimentions(length ,width,color) and excluding time dimention\n",
    "                for i in xrange(x.shape[3]):\n",
    "                    for j in xrange(x.shape[2]):\n",
    "                            y = x[:, :, j, i]\n",
    "                            img = Image.fromarray(y)\n",
    "                            img = img.convert(\"RGB\")\n",
    "                            img = img.resize([224, 224])\n",
    "                            \n",
    "                            #Saving image in '/home/ubuntu/Select_original_fmri/image/class_/file'\n",
    "                            img.save(store_path + 'i_' + str(count) + \".jpg\")\n",
    "                            count+=1\n",
    "            except:\n",
    "                print file_\n",
    "    \n",
    "    #os.system('rm -rf %s%s' %(home_files_dir2, class_))"
   ]
  },
  {
   "cell_type": "markdown",
   "metadata": {
    "collapsed": true
   },
   "source": [
    "# Converting Images into Video"
   ]
  },
  {
   "cell_type": "code",
   "execution_count": 4,
   "metadata": {
    "scrolled": true
   },
   "outputs": [
    {
     "name": "stdout",
     "output_type": "stream",
     "text": [
      "working on A95_130_S_4641.nii...Alzheimer\n",
      "0\n",
      "working on A72_130_S_5059.nii...Alzheimer\n",
      "0\n",
      "working on A104_130_S_4971.nii...Alzheimer\n",
      "0\n",
      "working on A11_130_S_4730.nii...Alzheimer\n",
      "0\n",
      "working on A18_031_S_4024.nii...Alzheimer\n",
      "0\n",
      "working on A45_006_S_4192.nii...Alzheimer\n",
      "0\n",
      "working on A6_130_S_4997.nii...Alzheimer\n",
      "0\n",
      "working on A23_019_S_4252.nii...Alzheimer\n",
      "0\n",
      "working on A2_131_S_5138.nii...Alzheimer\n",
      "0\n",
      "working on A24_018_S_5240.nii...Alzheimer\n",
      "0\n",
      "working on M185_013_S_4791.nii...MCI\n",
      "0\n",
      "working on M144_012_S_4128.nii...MCI\n",
      "0\n",
      "working on M162_130_S_4883.nii...MCI\n",
      "0\n",
      "working on M7_006_S_4515.nii...MCI\n",
      "0\n",
      "working on M52_002_S_0729.nii...MCI\n",
      "0\n",
      "working on M180_130_S_4605.nii...MCI\n",
      "0\n",
      "working on M27_013_S_2324.nii...MCI\n",
      "0\n",
      "working on M1_013_S_2389.nii...MCI\n",
      "0\n",
      "working on M242_130_S_4417.nii...MCI\n",
      "0\n",
      "working on M43_018_S_2180.nii...MCI\n",
      "0\n",
      "working on M280_130_S_4415.nii...MCI\n",
      "0\n",
      "working on M18_002_S_4229.nii...MCI\n",
      "0\n",
      "working on M332_100_S_4556.nii...MCI\n",
      "0\n",
      "working on M14_002_S_4473.nii...MCI\n",
      "0\n",
      "working on M301_031_S_4947.nii...MCI\n",
      "0\n",
      "working on M263_031_S_4029.nii...MCI\n",
      "0\n",
      "working on M39_031_S_2233.nii...MCI\n",
      "0\n",
      "working on M316_053_S_4557.nii...MCI\n",
      "0\n",
      "working on M192_013_S_4985.nii...MCI\n",
      "0\n",
      "working on M325_053_S_4813.nii...MCI\n",
      "0\n",
      "working on M45_018_S_2138.nii...MCI\n",
      "0\n",
      "working on M345_130_S_2391.nii...MCI\n",
      "0\n",
      "working on M214_018_S_4809.nii...MCI\n",
      "0\n",
      "working on M226_019_S_4285.nii...MCI\n",
      "0\n",
      "working on M3_010_S_4135.nii...MCI\n",
      "0\n",
      "working on M34_100_S_2351.nii...MCI\n",
      "0\n",
      "working on M157_012_S_4987.nii...MCI\n",
      "0\n",
      "working on M32_130_S_4250.nii...MCI\n",
      "0\n",
      "working on M31_130_S_2402.nii...MCI\n",
      "0\n",
      "working on M188_013_S_4917.nii...MCI\n",
      "0\n",
      "working on M218_018_S_4868.nii...MCI\n",
      "0\n",
      "working on N20_002_S_4225.nii...Normal\n",
      "0\n",
      "working on N149_18_S_4399.nii...Normal\n",
      "0\n",
      "working on N132_013_S_4580.nii...Normal\n",
      "0\n",
      "working on N119_012_S_4026.nii...Normal\n",
      "0\n",
      "working on N29_006_S_4485.nii...Normal\n",
      "0\n",
      "working on N165_031_S_4021.nii...Normal\n",
      "0\n",
      "working on N145_018_S_4349.nii...Normal\n",
      "0\n",
      "working on N162_019_S_4367.nii...Normal\n",
      "0\n",
      "working on N10_129_S_0778.nii...Normal\n",
      "0\n",
      "working on N51_002_S_0295.nii...Normal\n",
      "0\n",
      "working on N12_100_S_4511.nii...Normal\n",
      "0\n",
      "working on N26_006_S_4449.nii...Normal\n",
      "0\n",
      "working on N1_136_S_4727.nii...Normal\n",
      "0\n",
      "working on N72_002_S_4262.nii...Normal\n",
      "0\n",
      "working on N86_129_S_4369.nii...Normal\n",
      "0\n",
      "working on N27_002_S_1280.nii...Normal\n",
      "0\n"
     ]
    }
   ],
   "source": [
    "videoclassification_dir=\"/home/ubuntu/final_src/DeepNeuralnets--Alzheimer/videoclassification/data/\"\n",
    "try:\n",
    "    # removing the completed directory in the videoclassification/data directory.\n",
    "    shutil.rmtree(videoclassification_dir+\"completed\")\n",
    "except:\n",
    "    print('no completed directory in data directory')\n",
    "    pass\n",
    "\n",
    "try:\n",
    "    # Making \"videos\" directory in vieoclassification/data\n",
    "    os.mkdir(videoclassification_dir+\"videos/\")\n",
    "except:\n",
    "    shutil.rmtree(videoclassification_dir+\"videos/\")\n",
    "    os.mkdir(videoclassification_dir+\"videos/\")\n",
    "\n",
    "for class_ in classes:\n",
    "    try:\n",
    "        # making classes(Alzheimer,MCI, Normal) inside videos folder   \n",
    "        os.mkdir(os.path.join(videoclassification_dir+\"videos/\" , class_))\n",
    "    except:\n",
    "        shutil.rmtree(os.path.join(videoclassification_dir+\"videos\" , class_))\n",
    "        os.mkdir(os.path.join(videoclassification_dir+\"videos/\" , class_))\n",
    "    \n",
    "    # Extracting images from '/home/ubuntu/Select_original_fmri/images/class_'    \n",
    "    for root, dirs ,files in os.walk(os.path.join(home_files_dir + \"images/\" , class_)):\n",
    "        for dir_ in dirs:\n",
    "            print 'working on ' + dir_ + \"...\" + class_\n",
    "            # saving videos\n",
    "            save_dir = videoclassification_dir+'videos/' + class_ + '/' + dir_ + '.avi'\n",
    "            print os.system(\"avconv  -i \" + home_files_dir + 'images/' + class_ + '/' + dir_ + '/i_%d.jpg' + \" -c:v libx264 \" + save_dir)\n",
    "try:\n",
    "    os.mkdir(videoclassification_dir+\"completed\")\n",
    "except:\n",
    "    pass"
   ]
  },
  {
   "cell_type": "code",
   "execution_count": 6,
   "metadata": {
    "scrolled": true
   },
   "outputs": [
    {
     "name": "stdout",
     "output_type": "stream",
     "text": [
      "Alzheimer\n",
      "MCI\n",
      "Normal\n"
     ]
    }
   ],
   "source": [
    "path = \"/home/ubuntu/final_src/DeepNeuralnets--Alzheimer/videoclassification/data/videos/\"\n",
    "dst = \"/home/ubuntu/final_src/DeepNeuralnets--Alzheimer/videoclassification/data/\"\n",
    "files_list = [] \n",
    "test_list = []\n",
    "train_list = []\n",
    "\n",
    "count  = 0\n",
    "\n",
    "try:\n",
    "    os.mkdir(dst+\"test/\")\n",
    "    os.mkdir(dst+\"train/\")\n",
    "except:\n",
    "    shutil.rmtree(dst+\"test/\")\n",
    "    shutil.rmtree(dst+\"train/\")\n",
    "    os.mkdir(dst+\"test/\")\n",
    "    os.mkdir(dst+\"train/\")\n",
    "    \n",
    "for class_ in classes:\n",
    "    print class_\n",
    "    \n",
    "    # dividing the data for training and testing purpose\n",
    "    try:\n",
    "        os.mkdir(dst+\"test/\"+class_)\n",
    "        os.mkdir(dst+\"train/\"+class_)\n",
    "    except:\n",
    "        shutil.rmtree(dst+\"train/\"+class_)\n",
    "        shutil.rmtree(dst+\"test/\"+class_)\n",
    "        os.mkdir(dst+\"test/\"+class_)\n",
    "        os.mkdir(dst+\"train/\"+class_)\n",
    "        \n",
    "    for root,dirs,files in os.walk(os.path.join(path,class_)):\n",
    "        for f in files:\n",
    "            files_list.append(f)\n",
    "        test = int(len(files_list)*.3) # 30% test data\n",
    "        train = int(round(len(files_list)*.7)) # 70% test data\n",
    "        test_list += list(files_list[:test])\n",
    "        train_list += list(files_list[test:train])\n",
    "        \n",
    "        #moving data into test and train folders\n",
    "        for i in test_list:\n",
    "            shutil.move(src=path+class_ +\"/\"+i, dst=dst+\"test/\"+class_+\"/\"+i)\n",
    "        for i in train_list:\n",
    "            shutil.move(src=path +  class_ +\"/\"+ i, dst=dst+\"train/\" +class_+\"/\"+i)\n",
    "        files_list = []\n",
    "        train_list = []\n",
    "        test_list  = []\n"
   ]
  },
  {
   "cell_type": "code",
   "execution_count": 13,
   "metadata": {},
   "outputs": [
    {
     "name": "stdout",
     "output_type": "stream",
     "text": [
      "/home/ubuntu/final_src/DeepNeuralnets--Alzheimer/videoclassification/data\n"
     ]
    }
   ],
   "source": [
    "% cd data"
   ]
  },
  {
   "cell_type": "code",
   "execution_count": 14,
   "metadata": {
    "collapsed": true
   },
   "outputs": [],
   "source": [
    "try:\n",
    "    os.mkdir(\"sequences/\")\n",
    "    os.mkdir(\"checkpoints/\")\n",
    "except:\n",
    "    shutil.rmtree(\"sequences/\")\n",
    "    shutil.rmtree(\"checkpoints/\")\n",
    "    os.mkdir(\"sequences/\")\n",
    "    os.mkdir(\"checkpoints/\")"
   ]
  },
  {
   "cell_type": "code",
   "execution_count": 39,
   "metadata": {
    "scrolled": true
   },
   "outputs": [
    {
     "name": "stdout",
     "output_type": "stream",
     "text": [
      "('class_folders', ['./train/Alzheimer', './train/Normal', './train/MCI'])\n",
      "('vid_class:', './train/Alzheimer')\n",
      "('video path', './train/Alzheimer/A6_130_S_4997.nii.avi')\n",
      "('train_or_test:', 'train')\n",
      "('classname:', 'Alzheimer')\n",
      "('filename_no_ext:', 'A6_130_S_4997')\n",
      "('filename:', 'A6_130_S_4997.nii.avi')\n",
      "Generated 6720 frames for A6_130_S_4997\n",
      "('video path', './train/Alzheimer/A45_006_S_4192.nii.avi')\n",
      "('train_or_test:', 'train')\n",
      "('classname:', 'Alzheimer')\n",
      "('filename_no_ext:', 'A45_006_S_4192')\n",
      "('filename:', 'A45_006_S_4192.nii.avi')\n",
      "Generated 6720 frames for A45_006_S_4192\n",
      "('vid_class:', './train/Normal')\n",
      "('video path', './train/Normal/N119_012_S_4026.nii.avi')\n",
      "('train_or_test:', 'train')\n",
      "('classname:', 'Normal')\n",
      "('filename_no_ext:', 'N119_012_S_4026')\n",
      "('filename:', 'N119_012_S_4026.nii.avi')\n",
      "Generated 6720 frames for N119_012_S_4026\n",
      "('video path', './train/Normal/N132_013_S_4580.nii.avi')\n",
      "('train_or_test:', 'train')\n",
      "('classname:', 'Normal')\n",
      "('filename_no_ext:', 'N132_013_S_4580')\n",
      "('filename:', 'N132_013_S_4580.nii.avi')\n",
      "Generated 6720 frames for N132_013_S_4580\n",
      "('video path', './train/Normal/N165_031_S_4021.nii.avi')\n",
      "('train_or_test:', 'train')\n",
      "('classname:', 'Normal')\n",
      "('filename_no_ext:', 'N165_031_S_4021')\n",
      "('filename:', 'N165_031_S_4021.nii.avi')\n",
      "Generated 6720 frames for N165_031_S_4021\n",
      "('vid_class:', './train/MCI')\n",
      "('video path', './train/MCI/M7_006_S_4515.nii.avi')\n",
      "('train_or_test:', 'train')\n",
      "('classname:', 'MCI')\n",
      "('filename_no_ext:', 'M7_006_S_4515')\n",
      "('filename:', 'M7_006_S_4515.nii.avi')\n",
      "Generated 6720 frames for M7_006_S_4515\n",
      "('video path', './train/MCI/M34_100_S_2351.nii.avi')\n",
      "('train_or_test:', 'train')\n",
      "('classname:', 'MCI')\n",
      "('filename_no_ext:', 'M34_100_S_2351')\n",
      "('filename:', 'M34_100_S_2351.nii.avi')\n",
      "Generated 6720 frames for M34_100_S_2351\n",
      "('video path', './train/MCI/M332_100_S_4556.nii.avi')\n",
      "('train_or_test:', 'train')\n",
      "('classname:', 'MCI')\n",
      "('filename_no_ext:', 'M332_100_S_4556')\n",
      "('filename:', 'M332_100_S_4556.nii.avi')\n",
      "Generated 6720 frames for M332_100_S_4556\n",
      "('video path', './train/MCI/M27_013_S_2324.nii.avi')\n",
      "('train_or_test:', 'train')\n",
      "('classname:', 'MCI')\n",
      "('filename_no_ext:', 'M27_013_S_2324')\n",
      "('filename:', 'M27_013_S_2324.nii.avi')\n",
      "Generated 6720 frames for M27_013_S_2324\n",
      "('class_folders', ['./test/Alzheimer', './test/Normal', './test/MCI'])\n",
      "('vid_class:', './test/Alzheimer')\n",
      "('vid_class:', './test/Normal')\n",
      "('video path', './test/Normal/N29_006_S_4485.nii.avi')\n",
      "('train_or_test:', 'test')\n",
      "('classname:', 'Normal')\n",
      "('filename_no_ext:', 'N29_006_S_4485')\n",
      "('filename:', 'N29_006_S_4485.nii.avi')\n",
      "Generated 6720 frames for N29_006_S_4485\n",
      "('vid_class:', './test/MCI')\n",
      "('video path', './test/MCI/M157_012_S_4987.nii.avi')\n",
      "('train_or_test:', 'test')\n",
      "('classname:', 'MCI')\n",
      "('filename_no_ext:', 'M157_012_S_4987')\n",
      "('filename:', 'M157_012_S_4987.nii.avi')\n",
      "Generated 6720 frames for M157_012_S_4987\n",
      "('video path', './test/MCI/M31_130_S_2402.nii.avi')\n",
      "('train_or_test:', 'test')\n",
      "('classname:', 'MCI')\n",
      "('filename_no_ext:', 'M31_130_S_2402')\n",
      "('filename:', 'M31_130_S_2402.nii.avi')\n",
      "Generated 6720 frames for M31_130_S_2402\n",
      "Extracted and wrote 12 video files.\n"
     ]
    }
   ],
   "source": [
    "#this is used to extract images\n",
    "!python 2_extract_files.py\n"
   ]
  },
  {
   "cell_type": "code",
   "execution_count": 10,
   "metadata": {},
   "outputs": [
    {
     "name": "stdout",
     "output_type": "stream",
     "text": [
      "/home/ubuntu/final_src/DeepNeuralnets--Alzheimer/videoclassification\n"
     ]
    }
   ],
   "source": [
    "% cd .."
   ]
  },
  {
   "cell_type": "code",
   "execution_count": 7,
   "metadata": {},
   "outputs": [
    {
     "name": "stdout",
     "output_type": "stream",
     "text": [
      "Using TensorFlow backend.\n",
      "Traceback (most recent call last):\n",
      "  File \"extract_features.py\", line 16, in <module>\n",
      "    from data import DataSet\n",
      "  File \"/home/ubuntu/final_src/DeepNeuralnets--Alzheimer/videoclassification/data.py\", line 12, in <module>\n",
      "    from processor import process_image\n",
      "  File \"/home/ubuntu/final_src/DeepNeuralnets--Alzheimer/videoclassification/processor.py\", line 4, in <module>\n",
      "    from keras.preprocessing.image import img_to_array, load_img\n",
      "  File \"/usr/local/lib/python2.7/dist-packages/keras/__init__.py\", line 3, in <module>\n",
      "    from . import utils\n",
      "  File \"/usr/local/lib/python2.7/dist-packages/keras/utils/__init__.py\", line 6, in <module>\n",
      "    from . import conv_utils\n",
      "  File \"/usr/local/lib/python2.7/dist-packages/keras/utils/conv_utils.py\", line 3, in <module>\n",
      "    from .. import backend as K\n",
      "  File \"/usr/local/lib/python2.7/dist-packages/keras/backend/__init__.py\", line 83, in <module>\n",
      "    from .tensorflow_backend import *\n",
      "  File \"/usr/local/lib/python2.7/dist-packages/keras/backend/tensorflow_backend.py\", line 1, in <module>\n",
      "    import tensorflow as tf\n",
      "  File \"/usr/local/lib/python2.7/dist-packages/tensorflow/__init__.py\", line 24, in <module>\n",
      "    from tensorflow.python import *\n",
      "  File \"/usr/local/lib/python2.7/dist-packages/tensorflow/python/__init__.py\", line 51, in <module>\n",
      "    from tensorflow.python import pywrap_tensorflow\n",
      "  File \"/usr/local/lib/python2.7/dist-packages/tensorflow/python/pywrap_tensorflow.py\", line 52, in <module>\n",
      "    raise ImportError(msg)\n",
      "ImportError: Traceback (most recent call last):\n",
      "  File \"/usr/local/lib/python2.7/dist-packages/tensorflow/python/pywrap_tensorflow.py\", line 41, in <module>\n",
      "    from tensorflow.python.pywrap_tensorflow_internal import *\n",
      "  File \"/usr/local/lib/python2.7/dist-packages/tensorflow/python/pywrap_tensorflow_internal.py\", line 28, in <module>\n",
      "    _pywrap_tensorflow_internal = swig_import_helper()\n",
      "  File \"/usr/local/lib/python2.7/dist-packages/tensorflow/python/pywrap_tensorflow_internal.py\", line 24, in swig_import_helper\n",
      "    _mod = imp.load_module('_pywrap_tensorflow_internal', fp, pathname, description)\n",
      "ImportError: libcublas.so.7.5: cannot open shared object file: No such file or directory\n",
      "\n",
      "\n",
      "Failed to load the native TensorFlow runtime.\n",
      "\n",
      "See https://www.tensorflow.org/install/install_sources#common_installation_problems\n",
      "\n",
      "for some common reasons and solutions.  Include the entire stack trace\n",
      "above this error message when asking for help.\n"
     ]
    }
   ],
   "source": [
    "!python extract_features.py"
   ]
  },
  {
   "cell_type": "code",
   "execution_count": null,
   "metadata": {
    "collapsed": true
   },
   "outputs": [],
   "source": [
    "!python train.py"
   ]
  },
  {
   "cell_type": "code",
   "execution_count": null,
   "metadata": {
    "collapsed": true
   },
   "outputs": [],
   "source": [
    "           \n"
   ]
  },
  {
   "cell_type": "code",
   "execution_count": null,
   "metadata": {
    "collapsed": true
   },
   "outputs": [],
   "source": []
  },
  {
   "cell_type": "markdown",
   "metadata": {},
   "source": [
    "\\begin\\{*equation}\n",
    "\n",
    "\\end\\{*equation}"
   ]
  },
  {
   "cell_type": "code",
   "execution_count": null,
   "metadata": {
    "collapsed": true
   },
   "outputs": [],
   "source": []
  }
 ],
 "metadata": {
  "kernelspec": {
   "display_name": "Python 2",
   "language": "python",
   "name": "python2"
  },
  "language_info": {
   "codemirror_mode": {
    "name": "ipython",
    "version": 2
   },
   "file_extension": ".py",
   "mimetype": "text/x-python",
   "name": "python",
   "nbconvert_exporter": "python",
   "pygments_lexer": "ipython2",
   "version": "2.7.6"
  }
 },
 "nbformat": 4,
 "nbformat_minor": 2
}
